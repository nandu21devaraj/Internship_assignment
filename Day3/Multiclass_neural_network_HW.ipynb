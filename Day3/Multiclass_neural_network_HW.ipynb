{
  "nbformat": 4,
  "nbformat_minor": 0,
  "metadata": {
    "colab": {
      "provenance": []
    },
    "kernelspec": {
      "name": "python3",
      "display_name": "Python 3"
    },
    "language_info": {
      "name": "python"
    }
  },
  "cells": [
    {
      "cell_type": "code",
      "execution_count": 1,
      "metadata": {
        "id": "uq1xFn95I7wA"
      },
      "outputs": [],
      "source": [
        "import numpy as np\n",
        "import matplotlib.pyplot as plt\n",
        "%matplotlib inline"
      ]
    },
    {
      "cell_type": "code",
      "source": [
        "def sigmoid(x):\n",
        "  return 1.0 / (1.0 + np.exp(-x))"
      ],
      "metadata": {
        "id": "l_GPeWyhJDzb"
      },
      "execution_count": 2,
      "outputs": []
    },
    {
      "cell_type": "code",
      "source": [
        "vals = np.linspace(-10, 10 , num = 100, dtype = np.float32)\n",
        "activation = sigmoid(vals)\n",
        "fig = plt.figure(figsize = (12, 6))\n",
        "plt.plot(vals, activation)\n",
        "plt.grid(True, which = 'both')\n",
        "plt.axhline(y = 0, color = 'k')\n",
        "plt.axvline(x = 0, color = 'k')\n",
        "plt.yticks()\n",
        "plt.ylim([-0.5, 1.5])"
      ],
      "metadata": {
        "colab": {
          "base_uri": "https://localhost:8080/",
          "height": 545
        },
        "id": "-PQQsVeYJP5C",
        "outputId": "fbab3d32-0313-497e-db59-09ee6096c943"
      },
      "execution_count": 3,
      "outputs": [
        {
          "output_type": "execute_result",
          "data": {
            "text/plain": [
              "(-0.5, 1.5)"
            ]
          },
          "metadata": {},
          "execution_count": 3
        },
        {
          "output_type": "display_data",
          "data": {
            "text/plain": [
              "<Figure size 1200x600 with 1 Axes>"
            ],
            "image/png": "[encoded data removed]"
          },
          "metadata": {}
        }
      ]
    },
    {
      "cell_type": "code",
      "source": [
        "def logic_gate(w1, w2, b):\n",
        "  return lambda x1, x2: sigmoid(w1 * x1 + w2 * x2 + b)\n",
        "\n",
        "def test(gate):\n",
        "  for a, b in (0, 0), (0, 1), (1, 0), (1, 1):\n",
        "    print(\n",
        "        \"{}, {}: {}\".format(a, b, np.round(gate(a, b)))\n",
        "      )"
      ],
      "metadata": {
        "id": "WOEx5XXAKHgX"
      },
      "execution_count": 4,
      "outputs": []
    },
    {
      "cell_type": "code",
      "source": [
        "or_gate = logic_gate(20, 20, -10)\n",
        "test(or_gate)"
      ],
      "metadata": {
        "colab": {
          "base_uri": "https://localhost:8080/"
        },
        "id": "Cij9RKK5K99q",
        "outputId": "1997b063-9843-40e1-fbc3-39864541d0dd"
      },
      "execution_count": 5,
      "outputs": [
        {
          "output_type": "stream",
          "name": "stdout",
          "text": [
            "0, 0: 0.0\n",
            "0, 1: 1.0\n",
            "1, 0: 1.0\n",
            "1, 1: 1.0\n"
          ]
        }
      ]
    },
    {
      "cell_type": "code",
      "source": [
        "or_gate = logic_gate(15, 15, -20)\n",
        "test(or_gate)"
      ],
      "metadata": {
        "colab": {
          "base_uri": "https://localhost:8080/"
        },
        "id": "U7VQnWSwLKSX",
        "outputId": "9ec4b1fe-ab15-4140-fa6f-d19676adb9da"
      },
      "execution_count": 6,
      "outputs": [
        {
          "output_type": "stream",
          "name": "stdout",
          "text": [
            "0, 0: 0.0\n",
            "0, 1: 0.0\n",
            "1, 0: 0.0\n",
            "1, 1: 1.0\n"
          ]
        }
      ]
    },
    {
      "cell_type": "code",
      "source": [
        "W_1 = np.array([[2, -1, 1, 4], [-1, 2, -3, 1], [3, -2, -1, 5]])\n",
        "W_1"
      ],
      "metadata": {
        "colab": {
          "base_uri": "https://localhost:8080/"
        },
        "id": "I7fzcvtUNKd4",
        "outputId": "279d792c-3bda-44b7-92b0-d399c1b67b72"
      },
      "execution_count": 7,
      "outputs": [
        {
          "output_type": "execute_result",
          "data": {
            "text/plain": [
              "array([[ 2, -1,  1,  4],\n",
              "       [-1,  2, -3,  1],\n",
              "       [ 3, -2, -1,  5]])"
            ]
          },
          "metadata": {},
          "execution_count": 7
        }
      ]
    },
    {
      "cell_type": "code",
      "source": [
        "W_2 = np.array([[3, 1, -2, 1], [-2, 4, 1, -4], [-1, -3, 2, -5], [3, 1, 1, 1]])\n",
        "W_3 = np.array([[-1, 3, -2], [1, -1, -3], [3, -2, 2], [1, 2, 1]])"
      ],
      "metadata": {
        "id": "iSgwzJTsNhG3"
      },
      "execution_count": 8,
      "outputs": []
    },
    {
      "cell_type": "code",
      "source": [
        "x_in = np.array([.5, .8, .2])\n",
        "x_in"
      ],
      "metadata": {
        "colab": {
          "base_uri": "https://localhost:8080/"
        },
        "id": "JVhkkeTjNkf1",
        "outputId": "656716b7-2414-4332-f4e2-560d4b2af7e0"
      },
      "execution_count": 9,
      "outputs": [
        {
          "output_type": "execute_result",
          "data": {
            "text/plain": [
              "array([0.5, 0.8, 0.2])"
            ]
          },
          "metadata": {},
          "execution_count": 9
        }
      ]
    },
    {
      "cell_type": "code",
      "source": [
        "x_mat_in  = np.array([[.5, .8, .2], [.1, .9, .6], [.2, .2, .3], [.6, .1, .9], [.5, .5, .4], [.9, .1, .9], [.1, .8, .7], [.9, .9, .1]])\n",
        "x_mat_in"
      ],
      "metadata": {
        "colab": {
          "base_uri": "https://localhost:8080/"
        },
        "id": "78WaIVRZN4YE",
        "outputId": "bb437f51-84c9-4a00-a6f4-3602bd1ffe7e"
      },
      "execution_count": 10,
      "outputs": [
        {
          "output_type": "execute_result",
          "data": {
            "text/plain": [
              "array([[0.5, 0.8, 0.2],\n",
              "       [0.1, 0.9, 0.6],\n",
              "       [0.2, 0.2, 0.3],\n",
              "       [0.6, 0.1, 0.9],\n",
              "       [0.5, 0.5, 0.4],\n",
              "       [0.9, 0.1, 0.9],\n",
              "       [0.1, 0.8, 0.7],\n",
              "       [0.9, 0.9, 0.1]])"
            ]
          },
          "metadata": {},
          "execution_count": 10
        }
      ]
    },
    {
      "cell_type": "code",
      "source": [
        "def soft_max_vec(vec):\n",
        "  return np.exp(vec) / np.sum(np.exp(vec))\n",
        "\n",
        "def soft_max_mat(mat):\n",
        "  return np.exp(mat) / (np.sum(np.exp(mat), axis = 1).reshape(-1, 1))"
      ],
      "metadata": {
        "id": "pXdu3OsAOwve"
      },
      "execution_count": 14,
      "outputs": []
    },
    {
      "cell_type": "code",
      "source": [
        "def layer(W, x_in):\n",
        "  return sigmoid(np.dot(x_in, W))\n",
        "\n",
        "def multilayer(W1, W2, W3, x_in):\n",
        "  layer1_out = layer(W1, x_in)\n",
        "  layer2_out = layer(W2, layer1_out)\n",
        "  return np.dot(layer2_out, W3)\n",
        "\n",
        "out = multilayer(W_1, W_2, W_3, x_in)\n",
        "print(out)\n",
        "out_mat = multilayer(W_1, W_2, W_3, x_mat_in)\n",
        "print(out_mat)\n",
        "print(soft_max_vec(out))\n",
        "print(soft_max_mat(out_mat))"
      ],
      "metadata": {
        "colab": {
          "base_uri": "https://localhost:8080/"
        },
        "id": "q70GknXYP8d_",
        "outputId": "2a2bd666-0c32-4f60-d80d-f29536fc8fdd"
      },
      "execution_count": 15,
      "outputs": [
        {
          "output_type": "stream",
          "name": "stdout",
          "text": [
            "[ 2.04146788  1.04718238 -3.47867612]\n",
            "[[ 2.04146788  1.04718238 -3.47867612]\n",
            " [ 1.92205929  1.42324752 -3.54057369]\n",
            " [ 1.9563182   1.13151906 -3.27363361]\n",
            " [ 1.63308573  2.17592794 -2.97738636]\n",
            " [ 1.84869797  1.55211843 -3.46934914]\n",
            " [ 1.59253551  2.05871663 -2.82613226]\n",
            " [ 1.8430245   1.73746743 -3.5474088 ]\n",
            " [ 1.96268542  1.10966666 -3.54194982]]\n",
            "[0.72780576 0.26927918 0.00291506]\n",
            "[[0.72780576 0.26927918 0.00291506]\n",
            " [0.62054212 0.37682531 0.00263257]\n",
            " [0.69267581 0.30361576 0.00370844]\n",
            " [0.36618794 0.63016955 0.00364252]\n",
            " [0.57199769 0.4251982  0.00280411]\n",
            " [0.38373781 0.61163804 0.00462415]\n",
            " [0.52510443 0.4725011  0.00239447]\n",
            " [0.69920561 0.29795012 0.00284428]]\n"
          ]
        }
      ]
    }
  ]
}